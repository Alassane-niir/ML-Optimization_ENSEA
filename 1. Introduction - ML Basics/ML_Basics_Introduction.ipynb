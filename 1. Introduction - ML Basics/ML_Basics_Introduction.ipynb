{
  "cells": [
    {
      "cell_type": "markdown",
      "metadata": {
        "id": "RIfGECk2iUnr"
      },
      "source": [
        "**Numpy**"
      ]
    },
    {
      "cell_type": "code",
      "execution_count": 1,
      "metadata": {
        "id": "z1q6_St9iY6b"
      },
      "outputs": [],
      "source": [
        "#### 1. Import the numpy package under the name `np` (★☆☆)\n",
        "\n",
        "\n",
        "import numpy as np"
      ]
    },
    {
      "cell_type": "code",
      "execution_count": 2,
      "metadata": {
        "colab": {
          "base_uri": "https://localhost:8080/"
        },
        "id": "9PDxDbuRjZbC",
        "outputId": "8c3a73f9-1ba0-45fc-b1a3-86844dae71fc"
      },
      "outputs": [
        {
          "name": "stdout",
          "output_type": "stream",
          "text": [
            "1.22.4\n"
          ]
        }
      ],
      "source": [
        "#### 2. Print the numpy version (★☆☆)\n",
        "\n",
        "print(np.__version__)"
      ]
    },
    {
      "cell_type": "code",
      "execution_count": 4,
      "metadata": {
        "colab": {
          "base_uri": "https://localhost:8080/"
        },
        "id": "MLsUweXQjghN",
        "outputId": "915fe0de-fa58-44c0-a724-7259c3f4946a"
      },
      "outputs": [
        {
          "name": "stdout",
          "output_type": "stream",
          "text": [
            "[0. 0. 0. 0. 0. 0. 0. 0. 0. 0.]\n"
          ]
        }
      ],
      "source": [
        "#### 3. Create a null vector of size 10 (★☆☆)\n",
        "Z = np.zeros(10)\n",
        "print(Z)"
      ]
    },
    {
      "cell_type": "code",
      "execution_count": 5,
      "metadata": {
        "colab": {
          "base_uri": "https://localhost:8080/"
        },
        "id": "YDMl_-gnjk_T",
        "outputId": "ae788c47-0db8-44ff-c8db-b4b4bb712325"
      },
      "outputs": [
        {
          "name": "stdout",
          "output_type": "stream",
          "text": [
            "[0. 0. 0. 0. 1. 0. 0. 0. 0. 0.]\n"
          ]
        }
      ],
      "source": [
        "#### 4. Create a null vector of size 10 but the fifth value which is 1 (★☆☆)\n",
        "\n",
        "Z = np.zeros(10)\n",
        "Z[4] = 1\n",
        "print(Z)"
      ]
    },
    {
      "cell_type": "code",
      "execution_count": 7,
      "metadata": {
        "colab": {
          "base_uri": "https://localhost:8080/"
        },
        "id": "AhboZU9bjx8j",
        "outputId": "976a1c26-251c-4bd7-db14-581864719820"
      },
      "outputs": [
        {
          "name": "stdout",
          "output_type": "stream",
          "text": [
            "[10 11 12 13 14 15 16 17 18 19 20 21 22 23 24 25 26 27 28 29 30 31 32 33\n",
            " 34 35 36 37 38 39 40 41 42 43 44 45 46 47 48 49]\n"
          ]
        }
      ],
      "source": [
        "#### 5. Create a vector with values ranging from 10 to 49 (★☆☆)\n",
        "\n",
        "\n",
        "Z = np.arange(10,50)\n",
        "print(Z)\n"
      ]
    },
    {
      "cell_type": "code",
      "execution_count": 8,
      "metadata": {
        "colab": {
          "base_uri": "https://localhost:8080/"
        },
        "id": "phXXw0enj550",
        "outputId": "2b23238a-a26b-456b-f50c-f9a074bb7221"
      },
      "outputs": [
        {
          "name": "stdout",
          "output_type": "stream",
          "text": [
            "[49 48 47 46 45 44 43 42 41 40 39 38 37 36 35 34 33 32 31 30 29 28 27 26\n",
            " 25 24 23 22 21 20 19 18 17 16 15 14 13 12 11 10  9  8  7  6  5  4  3  2\n",
            "  1  0]\n"
          ]
        }
      ],
      "source": [
        "#### 6. Reverse a vector (first element becomes last) (★☆☆)\n",
        "\n",
        "\n",
        "Z = np.arange(50)\n",
        "Z = Z[::-1]\n",
        "print(Z)"
      ]
    },
    {
      "cell_type": "code",
      "execution_count": 9,
      "metadata": {
        "colab": {
          "base_uri": "https://localhost:8080/"
        },
        "id": "bb0qfLILnq4u",
        "outputId": "fe0277e8-28b7-4f02-8478-0fb1c49375ae"
      },
      "outputs": [
        {
          "name": "stdout",
          "output_type": "stream",
          "text": [
            "[[0 1 2]\n",
            " [3 4 5]\n",
            " [6 7 8]]\n"
          ]
        }
      ],
      "source": [
        "#### 7. Create a 3x3 matrix with values ranging from 0 to 8 (★☆☆)\n",
        "\n",
        "\n",
        "Z = np.arange(9).reshape(3, 3)\n",
        "print(Z)"
      ]
    },
    {
      "cell_type": "code",
      "execution_count": 10,
      "metadata": {
        "colab": {
          "base_uri": "https://localhost:8080/"
        },
        "id": "ogAsXFepnvt4",
        "outputId": "205dd8c4-0525-4347-ba7a-738892361d45"
      },
      "outputs": [
        {
          "name": "stdout",
          "output_type": "stream",
          "text": [
            "[[1. 0. 0.]\n",
            " [0. 1. 0.]\n",
            " [0. 0. 1.]]\n"
          ]
        }
      ],
      "source": [
        "#### 8. Create a 3x3 identity matrix (★☆☆)\n",
        "\n",
        "\n",
        "Z = np.eye(3)\n",
        "print(Z)"
      ]
    },
    {
      "cell_type": "code",
      "execution_count": 11,
      "metadata": {
        "colab": {
          "base_uri": "https://localhost:8080/"
        },
        "id": "kN69wijkn2d1",
        "outputId": "042fcae1-dbb2-46e1-9679-23264ff15632"
      },
      "outputs": [
        {
          "name": "stdout",
          "output_type": "stream",
          "text": [
            "[[[0.3393393  0.38955215 0.31916157]\n",
            "  [0.89672308 0.8184816  0.17329884]\n",
            "  [0.44133046 0.65343714 0.30509287]]\n",
            "\n",
            " [[0.07266254 0.63660616 0.07412223]\n",
            "  [0.42346838 0.02125015 0.26751119]\n",
            "  [0.44333838 0.72354351 0.71120106]]\n",
            "\n",
            " [[0.02578993 0.49837841 0.61244591]\n",
            "  [0.02070731 0.41402642 0.38802938]\n",
            "  [0.62132181 0.57269815 0.03277043]]]\n"
          ]
        }
      ],
      "source": [
        "#### 9. Create a 3x3x3 array with random values (★☆☆)\n",
        "\n",
        "\n",
        "Z = np.random.random((3,3,3))\n",
        "print(Z)"
      ]
    },
    {
      "cell_type": "code",
      "execution_count": 12,
      "metadata": {
        "colab": {
          "base_uri": "https://localhost:8080/"
        },
        "id": "vFkEW9pbn-BS",
        "outputId": "db703afa-e260-4c3d-c4fc-269b780c245f"
      },
      "outputs": [
        {
          "name": "stdout",
          "output_type": "stream",
          "text": [
            "0.014293749158363012 0.9972772014827316\n"
          ]
        }
      ],
      "source": [
        "#### 10. Create a 10x10 array with random values and find the minimum and maximum values (★☆☆)\n",
        "\n",
        "\n",
        "Z = np.random.random((10,10))\n",
        "Zmin, Zmax = Z.min(), Z.max()\n",
        "print(Zmin, Zmax)"
      ]
    },
    {
      "cell_type": "code",
      "execution_count": 13,
      "metadata": {
        "colab": {
          "base_uri": "https://localhost:8080/"
        },
        "id": "1C4fTif6oEMI",
        "outputId": "18f587f3-753e-4a9f-d581-d1cd684dfe58"
      },
      "outputs": [
        {
          "name": "stdout",
          "output_type": "stream",
          "text": [
            "0.3902750402978416\n"
          ]
        }
      ],
      "source": [
        "#### 11. Create a random vector of size 30 and find the mean value (★☆☆)\n",
        "\n",
        "\n",
        "Z = np.random.random(30)\n",
        "m = Z.mean()\n",
        "print(m)"
      ]
    },
    {
      "cell_type": "code",
      "execution_count": 14,
      "metadata": {
        "colab": {
          "base_uri": "https://localhost:8080/"
        },
        "id": "UusSkPCdoKVX",
        "outputId": "8b41052e-d3d9-41a0-dbe3-33ff0a54c337"
      },
      "outputs": [
        {
          "name": "stdout",
          "output_type": "stream",
          "text": [
            "[[ 0.82741414 -0.03455023 -0.39997443 -0.19609879  2.08910757]\n",
            " [ 1.37198154 -0.06737964  0.31973122  0.46925907 -1.43431096]\n",
            " [-0.90027926  1.33813938 -1.07889352 -1.24652734  1.39263992]\n",
            " [-1.56092633  1.7509611  -0.68426177  0.11249501 -0.0712828 ]\n",
            " [-0.84620314  0.48626979 -1.05479763 -0.2503689  -0.33214401]]\n"
          ]
        }
      ],
      "source": [
        "#### 12. Normalize a 5x5 random matrix (★☆☆)\n",
        "\n",
        "\n",
        "Z = np.random.random((5,5))\n",
        "Z = (Z - np.mean (Z)) / (np.std (Z))\n",
        "print(Z)"
      ]
    },
    {
      "cell_type": "code",
      "execution_count": 15,
      "metadata": {
        "colab": {
          "base_uri": "https://localhost:8080/"
        },
        "id": "nRtfUXAyoRS7",
        "outputId": "0f776347-c4df-40e4-e037-42c4471bb372"
      },
      "outputs": [
        {
          "name": "stdout",
          "output_type": "stream",
          "text": [
            "[[3. 3.]\n",
            " [3. 3.]\n",
            " [3. 3.]\n",
            " [3. 3.]\n",
            " [3. 3.]]\n",
            "[[3. 3.]\n",
            " [3. 3.]\n",
            " [3. 3.]\n",
            " [3. 3.]\n",
            " [3. 3.]]\n"
          ]
        }
      ],
      "source": [
        "#### 13. Multiply a 5x3 matrix by a 3x2 matrix (real matrix product) (★☆☆)\n",
        "\n",
        "\n",
        "Z = np.dot(np.ones((5,3)), np.ones((3,2)))\n",
        "print(Z)\n",
        "\n",
        "# Alternative solution, in Python 3.5 and above\n",
        "Z = np.ones((5,3)) @ np.ones((3,2))\n",
        "print(Z)"
      ]
    },
    {
      "cell_type": "code",
      "execution_count": 17,
      "metadata": {
        "colab": {
          "base_uri": "https://localhost:8080/"
        },
        "id": "BM0BJ5Ihoch7",
        "outputId": "e7bf38c9-d626-466f-9751-88c18312af08"
      },
      "outputs": [
        {
          "name": "stdout",
          "output_type": "stream",
          "text": [
            "[4 5 6 7 8 9]\n"
          ]
        }
      ],
      "source": [
        "#### 14. How to find common values between two arrays? (★☆☆)\n",
        "\n",
        "\n",
        "Z1 = np.random.randint(0,10,10)\n",
        "Z2 = np.random.randint(0,10,10)\n",
        "print(np.intersect1d(Z1,Z2))"
      ]
    },
    {
      "cell_type": "code",
      "execution_count": 19,
      "metadata": {
        "id": "Z3qmB65Coo5n"
      },
      "outputs": [],
      "source": [
        "#### 15. How to get the dates of yesterday, today and tomorrow? (★☆☆)\n",
        "\n",
        "\n",
        "yesterday = np.datetime64('today') - np.timedelta64(1)\n",
        "today     = np.datetime64('today')\n",
        "tomorrow  = np.datetime64('today') + np.timedelta64(1)"
      ]
    },
    {
      "cell_type": "code",
      "execution_count": 20,
      "metadata": {
        "colab": {
          "base_uri": "https://localhost:8080/"
        },
        "id": "gyyjyNnlow3q",
        "outputId": "da934e5f-2941-423c-a171-9cc3e864b1d9"
      },
      "outputs": [
        {
          "name": "stdout",
          "output_type": "stream",
          "text": [
            "['2016-07-01' '2016-07-02' '2016-07-03' '2016-07-04' '2016-07-05'\n",
            " '2016-07-06' '2016-07-07' '2016-07-08' '2016-07-09' '2016-07-10'\n",
            " '2016-07-11' '2016-07-12' '2016-07-13' '2016-07-14' '2016-07-15'\n",
            " '2016-07-16' '2016-07-17' '2016-07-18' '2016-07-19' '2016-07-20'\n",
            " '2016-07-21' '2016-07-22' '2016-07-23' '2016-07-24' '2016-07-25'\n",
            " '2016-07-26' '2016-07-27' '2016-07-28' '2016-07-29' '2016-07-30'\n",
            " '2016-07-31']\n"
          ]
        }
      ],
      "source": [
        "#### 16. How to get all the dates corresponding to the month of July 2016? (★★☆)\n",
        "\n",
        "\n",
        "Z = np.arange('2016-07', '2016-08', dtype='datetime64[D]')\n",
        "print(Z)"
      ]
    },
    {
      "cell_type": "code",
      "execution_count": 20,
      "metadata": {
        "id": "OJbEEekGo7xY"
      },
      "outputs": [],
      "source": []
    },
    {
      "cell_type": "markdown",
      "metadata": {
        "id": "-pjMdPHHo98g"
      },
      "source": [
        "Pandas"
      ]
    },
    {
      "cell_type": "code",
      "execution_count": 21,
      "metadata": {
        "id": "7QLrQBekpAXD"
      },
      "outputs": [],
      "source": [
        "import pandas as pd"
      ]
    },
    {
      "cell_type": "code",
      "execution_count": 22,
      "metadata": {
        "colab": {
          "base_uri": "https://localhost:8080/"
        },
        "id": "bKowHDjwpFMD",
        "outputId": "cc34900a-3720-4fb9-e8ea-4e120a3b5bd9"
      },
      "outputs": [
        {
          "name": "stdout",
          "output_type": "stream",
          "text": [
            "1.3.5\n"
          ]
        }
      ],
      "source": [
        "print(pd.__version__)"
      ]
    },
    {
      "cell_type": "code",
      "execution_count": null,
      "metadata": {
        "id": "J1kKug_fpHtw"
      },
      "outputs": [],
      "source": [
        "df = pd.read_csv(\"./data_0000.csv\")"
      ]
    },
    {
      "cell_type": "code",
      "execution_count": null,
      "metadata": {
        "id": "WOY3b3H0plqr"
      },
      "outputs": [],
      "source": [
        "# View the first five rows of data\n",
        "df.head()\n"
      ]
    },
    {
      "cell_type": "code",
      "execution_count": null,
      "metadata": {
        "id": "kfX2xJz6ppv1"
      },
      "outputs": [],
      "source": [
        "print(f\"The DataFrame contains {len(df)} observations and {len(df.columns)} columns.\")\n"
      ]
    },
    {
      "cell_type": "code",
      "execution_count": null,
      "metadata": {
        "id": "Pab335A8pujW"
      },
      "outputs": [],
      "source": [
        "print(f\"The youngest respondent is {df.age.min()} years old.\")\n",
        "print(f\"The oldest respondent is {df.age.max()} years old.\")"
      ]
    },
    {
      "cell_type": "code",
      "execution_count": null,
      "metadata": {
        "id": "YFH73Wazp07X"
      },
      "outputs": [],
      "source": [
        "print(f\"The average respondent watches TV news {df.TVnews.mean():.1f} days a week.\")\n"
      ]
    },
    {
      "cell_type": "code",
      "execution_count": null,
      "metadata": {
        "id": "9CzSmoDap3iS"
      },
      "outputs": [],
      "source": [
        "# You could also extract all the requested information using the .describe() method.\n",
        "print(df.describe())"
      ]
    },
    {
      "cell_type": "code",
      "execution_count": null,
      "metadata": {
        "id": "v7EcXOEHp5hi"
      },
      "outputs": [],
      "source": [
        "# View data types and if there any missing values.\n",
        "df.info()"
      ]
    },
    {
      "cell_type": "code",
      "execution_count": null,
      "metadata": {
        "id": "mcXHDJO0qADj"
      },
      "outputs": [],
      "source": [
        "# Rename 'educ' column.\n",
        "df = df.rename(columns={'educ': 'education'})"
      ]
    },
    {
      "cell_type": "code",
      "execution_count": null,
      "metadata": {
        "id": "AFHj2llnqE55"
      },
      "outputs": [],
      "source": [
        "def get_party(df):\n",
        "  \"\"\"\n",
        "    returns respondent's political party based on PID\n",
        "  \"\"\"\n",
        "\n",
        "  if df['PID'] < 2:\n",
        "    return \"Democrat\"\n",
        "  elif df['PID'] > 4:\n",
        "    return \"Republican\"\n",
        "  else:\n",
        "    return \"Independent\"\n",
        "\n",
        "# Apply the function to the df and save to a new column 'party.'\n",
        "df['party'] = df.apply(get_party, axis = 1)"
      ]
    },
    {
      "cell_type": "code",
      "execution_count": null,
      "metadata": {
        "id": "25zJls2sqOW5"
      },
      "outputs": [],
      "source": [
        "def get_agegroup(df):\n",
        "  \"\"\"\n",
        "    returns age bracket string dependent on respondent's exact age (integer)\n",
        "  \"\"\"\n",
        "\n",
        "  if df['age'] < 25:\n",
        "    return \"18-24\"\n",
        "  elif df['age'] < 35:\n",
        "    return \"25-34\"\n",
        "  elif df['age'] < 45:\n",
        "    return \"35-44\"\n",
        "  elif df['age'] < 55:\n",
        "    return \"45-54\"\n",
        "  elif df['age'] < 65:\n",
        "    return \"55-64\"\n",
        "  else:\n",
        "    return \"65 and over\"\n",
        "\n",
        "# Apply the function to the df and save to new column 'age_group.'\n",
        "df['age_group'] = df.apply(get_agegroup, axis = 1)"
      ]
    },
    {
      "cell_type": "code",
      "execution_count": null,
      "metadata": {
        "id": "bk8htP4DqVRl"
      },
      "outputs": [],
      "source": [
        "\n",
        "ClModRep = df[df['ClinLR'] >= 4]\n",
        "\n",
        "print(f\"{len(ClModRep)} respondents have the impression that Bill Clinton is moderate or conservative.\")\n",
        "\n",
        "ClModRep_filtered = ClModRep[(ClModRep['income'] < 20) & (ClModRep['education'] > 3)]\n",
        "print(f\"Among the {len(ClModRep)} respondents have the impression that Bill Clinton is moderate or conservative, {len(ClModRep_filtered)} ({len(ClModRep_filtered)/len(ClModRep):.2f}%) earn less than $50,000 and attended at least some college.\")"
      ]
    },
    {
      "cell_type": "code",
      "execution_count": null,
      "metadata": {
        "id": "ASSlVTcQp5no"
      },
      "outputs": [],
      "source": [
        "# group df by age_group variable and calculate means for each columns\n",
        "avg_by_age = df.groupby([\"age_group\"]).mean()\n",
        "\n",
        "# print mean values of each age group for selected columns and sort accordingly\n",
        "print(avg_by_age['selfLR'].sort_values(ascending = False))\n",
        "print(avg_by_age['TVnews'].sort_values(ascending = True)) "
      ]
    },
    {
      "cell_type": "code",
      "execution_count": null,
      "metadata": {
        "id": "Rtc-YiMgp1IM"
      },
      "outputs": [],
      "source": [
        "income_quants = list(df['income'].quantile(q=[0.2, 0.4, 0.6, 0.8, 1]))\n",
        "\n",
        "def get_income_quant(df):\n",
        "  \"\"\"\n",
        "    Return quantile group based on respondent income.\n",
        "  \"\"\"\n",
        "\n",
        "  if df['income'] <= income_quants[0]:\n",
        "    return \"Q1\"\n",
        "  elif df['income'] <= income_quants[1]:\n",
        "    return \"Q2\"\n",
        "  elif df['income'] <= income_quants[2]:\n",
        "    return \"Q3\"\n",
        "  elif df[\"income\"] <= income_quants[3]:\n",
        "    return \"Q4\"\n",
        "  else:\n",
        "    return \"Q5\"\n",
        "\n",
        "# Apply it to the df and make a new column\n",
        "df['income_quant'] = df.apply(get_income_quant, axis=1)"
      ]
    },
    {
      "cell_type": "markdown",
      "metadata": {
        "id": "8-EHmw8Wzbtx"
      },
      "source": [
        "**ML & Scikit Learn**"
      ]
    },
    {
      "cell_type": "code",
      "execution_count": 23,
      "metadata": {
        "id": "UHKOA5-Lzmfi"
      },
      "outputs": [],
      "source": [
        "import pandas as pd"
      ]
    },
    {
      "cell_type": "code",
      "execution_count": 24,
      "metadata": {
        "id": "oxSL0mAi3NAq"
      },
      "outputs": [],
      "source": [
        "import numpy as np"
      ]
    },
    {
      "cell_type": "code",
      "execution_count": null,
      "metadata": {
        "id": "iKSgwovb3QJ-"
      },
      "outputs": [],
      "source": [
        "df = pd.read_csv(\"./data_0001.csv\")"
      ]
    },
    {
      "cell_type": "code",
      "execution_count": null,
      "metadata": {
        "id": "3OGmH1_k3W0d"
      },
      "outputs": [],
      "source": [
        "df.head()"
      ]
    },
    {
      "cell_type": "code",
      "execution_count": null,
      "metadata": {
        "id": "JxMZwMSj3aD0"
      },
      "outputs": [],
      "source": [
        "print(data.isnull().sum())"
      ]
    },
    {
      "cell_type": "code",
      "execution_count": null,
      "metadata": {
        "id": "LJVzg_2-3j_T"
      },
      "outputs": [],
      "source": [
        "import plotly.express as px\n",
        "import plotly.graph_objects as go\n",
        "figure = px.scatter(data_frame = data, x=\"Sales\",\n",
        "                    y=\"TV\", size=\"TV\", trendline=\"ols\")\n",
        "figure.show()"
      ]
    },
    {
      "cell_type": "code",
      "execution_count": null,
      "metadata": {
        "id": "jNcvJyn03pKH"
      },
      "outputs": [],
      "source": [
        "figure = px.scatter(data_frame = data, x=\"Sales\",\n",
        "                    y=\"Newspaper\", size=\"Newspaper\", trendline=\"ols\")\n",
        "figure.show()"
      ]
    },
    {
      "cell_type": "code",
      "execution_count": null,
      "metadata": {
        "id": "UzPt0dt83uIS"
      },
      "outputs": [],
      "source": [
        "figure = px.scatter(data_frame = data, x=\"Sales\",\n",
        "                    y=\"Radio\", size=\"Radio\", trendline=\"ols\")\n",
        "figure.show()"
      ]
    },
    {
      "cell_type": "code",
      "execution_count": null,
      "metadata": {
        "id": "QKQw8wb23w0q"
      },
      "outputs": [],
      "source": [
        "correlation = data.corr()\n",
        "print(correlation[\"Sales\"].sort_values(ascending=False))"
      ]
    },
    {
      "cell_type": "code",
      "execution_count": null,
      "metadata": {
        "id": "L7TQ30TM3xRj"
      },
      "outputs": [],
      "source": [
        "from sklearn.model_selection import train_test_split\n",
        "from sklearn.linear_model import LinearRegression"
      ]
    },
    {
      "cell_type": "code",
      "execution_count": null,
      "metadata": {
        "id": "L93aqUaa331K"
      },
      "outputs": [],
      "source": [
        "x = np.array(data.drop([\"Sales\"], 1))\n",
        "y = np.array(data[\"Sales\"])\n",
        "xtrain, xtest, ytrain, ytest = train_test_split(x, y, \n",
        "                                                test_size=0.2, \n",
        "                                                random_state=42)"
      ]
    },
    {
      "cell_type": "code",
      "execution_count": null,
      "metadata": {
        "id": "LCuaaIvg35pO"
      },
      "outputs": [],
      "source": [
        "model = LinearRegression()\n",
        "model.fit(xtrain, ytrain)\n",
        "print(model.score(xtest, ytest))"
      ]
    },
    {
      "cell_type": "code",
      "execution_count": null,
      "metadata": {
        "id": "DLnfinE739Bn"
      },
      "outputs": [],
      "source": [
        "#features = [[TV, Radio, Newspaper]]\n",
        "features = np.array([[230.1, 37.8, 69.2]])\n",
        "print(model.predict(features))"
      ]
    }
  ],
  "metadata": {
    "colab": {
      "provenance": []
    },
    "kernelspec": {
      "display_name": "Python 3",
      "name": "python3"
    },
    "language_info": {
      "name": "python"
    }
  },
  "nbformat": 4,
  "nbformat_minor": 0
}
