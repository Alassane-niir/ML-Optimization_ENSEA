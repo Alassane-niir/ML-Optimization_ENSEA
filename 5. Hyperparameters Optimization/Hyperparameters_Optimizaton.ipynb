{
  "nbformat": 4,
  "nbformat_minor": 0,
  "metadata": {
    "colab": {
      "provenance": []
    },
    "kernelspec": {
      "name": "python3",
      "display_name": "Python 3"
    },
    "language_info": {
      "name": "python"
    }
  },
  "cells": [
    {
      "cell_type": "markdown",
      "source": [
        "**Hyperparameter**\n",
        "**Optimization** **in** **a Classification**"
      ],
      "metadata": {
        "id": "dISG8RSp2j0r"
      }
    },
    {
      "cell_type": "code",
      "source": [
        "# random search logistic regression model on the sonar dataset\n",
        "from scipy.stats import loguniform\n",
        "import pandas as pd\n",
        "from sklearn.linear_model import LogisticRegression\n",
        "from sklearn.model_selection import RepeatedStratifiedKFold\n",
        "from sklearn.model_selection import RandomizedSearchCV\n",
        "\n",
        "# load dataset\n",
        "dataframe = pd.read_csv(\"data_0004.csv\", header=None)\n",
        "\n",
        "# split into input and output elements\n",
        "data = dataframe.values\n",
        "X, y = data[:, :-1], data[:, -1]\n",
        "\n",
        "# define model\n",
        "model = LogisticRegression()\n",
        "\n",
        "# define evaluation\n",
        "cv = RepeatedStratifiedKFold(n_splits=10, n_repeats=3, random_state=1)\n",
        "\n",
        "# define search space\n",
        "space = dict()\n",
        "space['solver'] = ['newton-cg', 'lbfgs', 'liblinear']\n",
        "space['penalty'] = ['none', 'l1', 'l2', 'elasticnet']\n",
        "space['C'] = loguniform(1e-5, 100)\n",
        "\n",
        "# define search\n",
        "search = RandomizedSearchCV(model, space, n_iter=500, scoring='accuracy', n_jobs=-1, cv=cv, random_state=1)\n",
        "\n",
        "# execute search\n",
        "result = search.fit(X, y)\n",
        "# summarize result\n",
        "print('Best Score: %s' % result.best_score_)\n",
        "print('Best Hyperparameters: %s' % result.best_params_)"
      ],
      "metadata": {
        "id": "TLFrHAaS2n8n"
      },
      "execution_count": null,
      "outputs": []
    },
    {
      "cell_type": "code",
      "source": [
        "# define search space2\n",
        "space2 = dict()\n",
        "space2['solver'] = ['newton-cg', 'lbfgs', 'liblinear']\n",
        "space2['penalty'] = ['none', 'l1', 'l2', 'elasticnet']\n",
        "space2['C'] = [1e-5, 1e-4, 1e-3, 1e-2, 1e-1, 1, 10, 100]\n",
        "# define search\n",
        "search2 = GridSearchCV(model, space2, scoring='accuracy', n_jobs=-1, cv=cv)\n",
        "# execute search\n",
        "result2 = search2.fit(X, y)\n",
        "# summarize result\n",
        "print('Best Score: %s' % result2.best_score_)\n",
        "print('Best Hyperparameters: %s' % result2.best_params_)"
      ],
      "metadata": {
        "id": "C9CVQwr63TsA"
      },
      "execution_count": null,
      "outputs": []
    },
    {
      "cell_type": "markdown",
      "source": [
        "**Hyperparameter**\n",
        "**Optimization** **in** **a Regression**"
      ],
      "metadata": {
        "id": "kNCMIV1Y3wpm"
      }
    },
    {
      "cell_type": "code",
      "source": [
        "# random search linear regression model on the auto insurance dataset\n",
        "from scipy.stats import loguniform\n",
        "from sklearn.linear_model import Ridge\n",
        "from sklearn.model_selection import RepeatedKFold\n",
        "from sklearn.model_selection import RandomizedSearchCV\n",
        "\n",
        "# load dataset\n",
        "dataframe = pd.read_csv(\"data_0005.csv\", header=None)\n",
        "# split into input and output elements\n",
        "data = dataframe.values\n",
        "X, y = data[:, :-1], data[:, -1]\n",
        "# define model\n",
        "model = Ridge()\n",
        "# define evaluation\n",
        "cv = RepeatedKFold(n_splits=10, n_repeats=3, random_state=1)\n",
        "# define search space\n",
        "space = dict()\n",
        "space['solver'] = ['svd', 'cholesky', 'lsqr', 'sag']\n",
        "space['alpha'] = loguniform(1e-5, 100)\n",
        "space['fit_intercept'] = [True, False]\n",
        "space['normalize'] = [True, False]\n",
        "# define search\n",
        "search = RandomizedSearchCV(model, space, n_iter=500, scoring='neg_mean_absolute_error', n_jobs=-1, cv=cv, random_state=1)\n",
        "# execute search\n",
        "result = search.fit(X, y)\n",
        "# summarize result\n",
        "print('Best Score: %s' % result.best_score_)\n",
        "print('Best Hyperparameters: %s' % result.best_params_)"
      ],
      "metadata": {
        "id": "_P1xORz231P3"
      },
      "execution_count": null,
      "outputs": []
    }
  ]
}